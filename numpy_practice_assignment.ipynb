{
  "nbformat": 4,
  "nbformat_minor": 0,
  "metadata": {
    "colab": {
      "provenance": []
    },
    "kernelspec": {
      "name": "python3",
      "display_name": "Python 3"
    },
    "language_info": {
      "name": "python"
    }
  },
  "cells": [
    {
      "cell_type": "markdown",
      "source": [
        "Basic Array Creation\n"
      ],
      "metadata": {
        "id": "SLqNHHl8G5OZ"
      }
    },
    {
      "cell_type": "code",
      "source": [
        "import numpy as np\n",
        "\n",
        "myForthArray = np.arange(5, 101, 10, np.int32)\n",
        "print(myForthArray)\n"
      ],
      "metadata": {
        "colab": {
          "base_uri": "https://localhost:8080/"
        },
        "id": "NAb5-fkcIkVS",
        "outputId": "efe3be7b-98dd-4f3d-dae6-47bfdfaeeb29"
      },
      "execution_count": null,
      "outputs": [
        {
          "output_type": "stream",
          "name": "stdout",
          "text": [
            "[ 5 15 25 35 45 55 65 75 85 95]\n"
          ]
        }
      ]
    },
    {
      "cell_type": "code",
      "source": [
        "#create an array with 10 Equally spaced number between 0 to 1\n",
        "import numpy as np\n",
        "\n",
        "arr = np.linspace(0, 1,num=10)\n",
        "print(arr)\n"
      ],
      "metadata": {
        "colab": {
          "base_uri": "https://localhost:8080/"
        },
        "id": "Vaidbx4kNftV",
        "outputId": "46a408fd-b6aa-4c63-debc-9b877ddfc4a5"
      },
      "execution_count": null,
      "outputs": [
        {
          "output_type": "stream",
          "name": "stdout",
          "text": [
            "[0.         0.11111111 0.22222222 0.33333333 0.44444444 0.55555556\n",
            " 0.66666667 0.77777778 0.88888889 1.        ]\n"
          ]
        }
      ]
    },
    {
      "cell_type": "code",
      "source": [
        "#create a 20 random integer between 1 to 100\n",
        "import numpy as np\n",
        "arr=np.random.randint(1,100,size=20)\n",
        "print(arr)"
      ],
      "metadata": {
        "colab": {
          "base_uri": "https://localhost:8080/"
        },
        "id": "HCdeHcVzSceO",
        "outputId": "54973156-c9a7-4bbb-edf3-a70ceb4ff4c5"
      },
      "execution_count": null,
      "outputs": [
        {
          "output_type": "stream",
          "name": "stdout",
          "text": [
            "[48  7  9 62 49 59 33 52  6 99 72 80  5 50 78 38 27 99 32 90]\n"
          ]
        }
      ]
    },
    {
      "cell_type": "code",
      "source": [],
      "metadata": {
        "id": "HgqCB95_W5K4"
      },
      "execution_count": null,
      "outputs": []
    },
    {
      "cell_type": "code",
      "source": [
        "#create  a 2D array with the shape(4,4)filled with the value 7\n",
        "import numpy as np\n",
        "arr=np.full((4,4),7)\n",
        "print(arr)"
      ],
      "metadata": {
        "colab": {
          "base_uri": "https://localhost:8080/"
        },
        "id": "NG_wQS_4W8Xh",
        "outputId": "7423c5fc-2ce7-4262-8fc3-36ba6a4cd533"
      },
      "execution_count": null,
      "outputs": [
        {
          "output_type": "stream",
          "name": "stdout",
          "text": [
            "[[7 7 7 7]\n",
            " [7 7 7 7]\n",
            " [7 7 7 7]\n",
            " [7 7 7 7]]\n"
          ]
        }
      ]
    },
    {
      "cell_type": "code",
      "source": [
        "#create a 1D array of 10 element with the same value 3.14\n",
        "arr=np.full(10,3.14)\n",
        "arr=np.arange(1000)\n",
        "print(arr)"
      ],
      "metadata": {
        "colab": {
          "base_uri": "https://localhost:8080/"
        },
        "id": "p7DgFw74dAmr",
        "outputId": "1131e997-0003-4292-b1f2-071616b8ee7d"
      },
      "execution_count": null,
      "outputs": [
        {
          "output_type": "stream",
          "name": "stdout",
          "text": [
            "[  0   1   2   3   4   5   6   7   8   9  10  11  12  13  14  15  16  17\n",
            "  18  19  20  21  22  23  24  25  26  27  28  29  30  31  32  33  34  35\n",
            "  36  37  38  39  40  41  42  43  44  45  46  47  48  49  50  51  52  53\n",
            "  54  55  56  57  58  59  60  61  62  63  64  65  66  67  68  69  70  71\n",
            "  72  73  74  75  76  77  78  79  80  81  82  83  84  85  86  87  88  89\n",
            "  90  91  92  93  94  95  96  97  98  99 100 101 102 103 104 105 106 107\n",
            " 108 109 110 111 112 113 114 115 116 117 118 119 120 121 122 123 124 125\n",
            " 126 127 128 129 130 131 132 133 134 135 136 137 138 139 140 141 142 143\n",
            " 144 145 146 147 148 149 150 151 152 153 154 155 156 157 158 159 160 161\n",
            " 162 163 164 165 166 167 168 169 170 171 172 173 174 175 176 177 178 179\n",
            " 180 181 182 183 184 185 186 187 188 189 190 191 192 193 194 195 196 197\n",
            " 198 199 200 201 202 203 204 205 206 207 208 209 210 211 212 213 214 215\n",
            " 216 217 218 219 220 221 222 223 224 225 226 227 228 229 230 231 232 233\n",
            " 234 235 236 237 238 239 240 241 242 243 244 245 246 247 248 249 250 251\n",
            " 252 253 254 255 256 257 258 259 260 261 262 263 264 265 266 267 268 269\n",
            " 270 271 272 273 274 275 276 277 278 279 280 281 282 283 284 285 286 287\n",
            " 288 289 290 291 292 293 294 295 296 297 298 299 300 301 302 303 304 305\n",
            " 306 307 308 309 310 311 312 313 314 315 316 317 318 319 320 321 322 323\n",
            " 324 325 326 327 328 329 330 331 332 333 334 335 336 337 338 339 340 341\n",
            " 342 343 344 345 346 347 348 349 350 351 352 353 354 355 356 357 358 359\n",
            " 360 361 362 363 364 365 366 367 368 369 370 371 372 373 374 375 376 377\n",
            " 378 379 380 381 382 383 384 385 386 387 388 389 390 391 392 393 394 395\n",
            " 396 397 398 399 400 401 402 403 404 405 406 407 408 409 410 411 412 413\n",
            " 414 415 416 417 418 419 420 421 422 423 424 425 426 427 428 429 430 431\n",
            " 432 433 434 435 436 437 438 439 440 441 442 443 444 445 446 447 448 449\n",
            " 450 451 452 453 454 455 456 457 458 459 460 461 462 463 464 465 466 467\n",
            " 468 469 470 471 472 473 474 475 476 477 478 479 480 481 482 483 484 485\n",
            " 486 487 488 489 490 491 492 493 494 495 496 497 498 499 500 501 502 503\n",
            " 504 505 506 507 508 509 510 511 512 513 514 515 516 517 518 519 520 521\n",
            " 522 523 524 525 526 527 528 529 530 531 532 533 534 535 536 537 538 539\n",
            " 540 541 542 543 544 545 546 547 548 549 550 551 552 553 554 555 556 557\n",
            " 558 559 560 561 562 563 564 565 566 567 568 569 570 571 572 573 574 575\n",
            " 576 577 578 579 580 581 582 583 584 585 586 587 588 589 590 591 592 593\n",
            " 594 595 596 597 598 599 600 601 602 603 604 605 606 607 608 609 610 611\n",
            " 612 613 614 615 616 617 618 619 620 621 622 623 624 625 626 627 628 629\n",
            " 630 631 632 633 634 635 636 637 638 639 640 641 642 643 644 645 646 647\n",
            " 648 649 650 651 652 653 654 655 656 657 658 659 660 661 662 663 664 665\n",
            " 666 667 668 669 670 671 672 673 674 675 676 677 678 679 680 681 682 683\n",
            " 684 685 686 687 688 689 690 691 692 693 694 695 696 697 698 699 700 701\n",
            " 702 703 704 705 706 707 708 709 710 711 712 713 714 715 716 717 718 719\n",
            " 720 721 722 723 724 725 726 727 728 729 730 731 732 733 734 735 736 737\n",
            " 738 739 740 741 742 743 744 745 746 747 748 749 750 751 752 753 754 755\n",
            " 756 757 758 759 760 761 762 763 764 765 766 767 768 769 770 771 772 773\n",
            " 774 775 776 777 778 779 780 781 782 783 784 785 786 787 788 789 790 791\n",
            " 792 793 794 795 796 797 798 799 800 801 802 803 804 805 806 807 808 809\n",
            " 810 811 812 813 814 815 816 817 818 819 820 821 822 823 824 825 826 827\n",
            " 828 829 830 831 832 833 834 835 836 837 838 839 840 841 842 843 844 845\n",
            " 846 847 848 849 850 851 852 853 854 855 856 857 858 859 860 861 862 863\n",
            " 864 865 866 867 868 869 870 871 872 873 874 875 876 877 878 879 880 881\n",
            " 882 883 884 885 886 887 888 889 890 891 892 893 894 895 896 897 898 899\n",
            " 900 901 902 903 904 905 906 907 908 909 910 911 912 913 914 915 916 917\n",
            " 918 919 920 921 922 923 924 925 926 927 928 929 930 931 932 933 934 935\n",
            " 936 937 938 939 940 941 942 943 944 945 946 947 948 949 950 951 952 953\n",
            " 954 955 956 957 958 959 960 961 962 963 964 965 966 967 968 969 970 971\n",
            " 972 973 974 975 976 977 978 979 980 981 982 983 984 985 986 987 988 989\n",
            " 990 991 992 993 994 995 996 997 998 999]\n"
          ]
        }
      ]
    },
    {
      "cell_type": "code",
      "source": [
        "#create a 2D array with the shape(3,3)with values ranging from 1 to 9.\n",
        "arr=np.arange(1,10).reshape(3,3)\n",
        "print(arr)"
      ],
      "metadata": {
        "colab": {
          "base_uri": "https://localhost:8080/"
        },
        "id": "KfA2-6G4fOzt",
        "outputId": "b476dfbe-86f0-4662-973c-306a568d5fce"
      },
      "execution_count": null,
      "outputs": [
        {
          "output_type": "stream",
          "name": "stdout",
          "text": [
            "[[1 2 3]\n",
            " [4 5 6]\n",
            " [7 8 9]]\n"
          ]
        }
      ]
    },
    {
      "cell_type": "markdown",
      "source": [
        "Array operations"
      ],
      "metadata": {
        "id": "hKUJCP4yhTaL"
      }
    },
    {
      "cell_type": "code",
      "source": [
        "#create two arrays perform element-wise subtraction\n",
        "a=np.array([1,3,5,7,9])\n",
        "b=np.array([2,4,6,8,10])\n",
        "print(a-b)"
      ],
      "metadata": {
        "colab": {
          "base_uri": "https://localhost:8080/"
        },
        "id": "xUg3avX1hXMI",
        "outputId": "fbf61c1f-94d8-46a8-9664-60e21da82b71"
      },
      "execution_count": null,
      "outputs": [
        {
          "output_type": "stream",
          "name": "stdout",
          "text": [
            "[-1 -1 -1 -1 -1]\n"
          ]
        }
      ]
    },
    {
      "cell_type": "code",
      "source": [
        "#multiply array b by 3\n",
        "a=np.array([2,4,6,8])\n",
        "array=np.multiply(a,3)\n",
        "print(array)"
      ],
      "metadata": {
        "colab": {
          "base_uri": "https://localhost:8080/"
        },
        "id": "EMIH38GjkWMQ",
        "outputId": "c4db326f-dda4-4284-b9c9-5db74a1f1f96"
      },
      "execution_count": null,
      "outputs": [
        {
          "output_type": "stream",
          "name": "stdout",
          "text": [
            "[ 6 12 18 24]\n"
          ]
        }
      ]
    },
    {
      "cell_type": "code",
      "source": [
        "#Divide array a by 2\n",
        "a=np.array([10,20,30,40])\n",
        "array=np.divide(a,2)\n",
        "print(array)"
      ],
      "metadata": {
        "colab": {
          "base_uri": "https://localhost:8080/"
        },
        "id": "XRV9m-mIlRGK",
        "outputId": "4136a415-e97a-4b30-93ba-2991dd66cdbc"
      },
      "execution_count": null,
      "outputs": [
        {
          "output_type": "stream",
          "name": "stdout",
          "text": [
            "[ 5. 10. 15. 20.]\n"
          ]
        }
      ]
    },
    {
      "cell_type": "code",
      "source": [
        "#create two arrays perform element-wise modulus\n",
        "a=np.array([5,10,15])\n",
        "b=np.array([2,3,4])\n",
        "print(a%b)\n"
      ],
      "metadata": {
        "colab": {
          "base_uri": "https://localhost:8080/"
        },
        "id": "6sdVq0eBmWn2",
        "outputId": "de4e101c-0499-43cf-e18a-69414bd9ee35"
      },
      "execution_count": null,
      "outputs": [
        {
          "output_type": "stream",
          "name": "stdout",
          "text": [
            "[1 1 3]\n"
          ]
        }
      ]
    },
    {
      "cell_type": "code",
      "source": [
        "#create two array dot product\n",
        "a=np.array([1,2,3])\n",
        "b=np.array([4,5,6])\n",
        "print(np.dot(a,b))"
      ],
      "metadata": {
        "colab": {
          "base_uri": "https://localhost:8080/"
        },
        "id": "vX6yNoTEnqT4",
        "outputId": "6298eadd-6446-47e1-c0fa-8124ebe23043"
      },
      "execution_count": null,
      "outputs": [
        {
          "output_type": "stream",
          "name": "stdout",
          "text": [
            "32\n"
          ]
        }
      ]
    },
    {
      "cell_type": "markdown",
      "source": [
        "Matrix Multiplicaztion"
      ],
      "metadata": {
        "id": "xKzPoeQ7pn9o"
      }
    },
    {
      "cell_type": "code",
      "source": [
        "#create two array matrix multiplication\n",
        "a=[[2,3],[4,5]]\n",
        "b=[[1,0],[0,1]]\n",
        "print(\"Matrix Multip\")\n",
        "print(np.dot(a,b))\n"
      ],
      "metadata": {
        "colab": {
          "base_uri": "https://localhost:8080/"
        },
        "id": "1wgT6zAoprc5",
        "outputId": "64fe43ad-0088-4b96-a2de-40bb9abd562a"
      },
      "execution_count": null,
      "outputs": [
        {
          "output_type": "stream",
          "name": "stdout",
          "text": [
            "[[2 3]\n",
            " [4 5]]\n"
          ]
        }
      ]
    },
    {
      "cell_type": "code",
      "source": [
        "#Multiply a 3x3 matrix with a 3x1 vector\n",
        "import numpy as np\n",
        "\n",
        "# Define your 3x3 matrix A\n",
        "A = np.array([[1, 1, 1],\n",
        "              [2, 1, 0],\n",
        "              [1, 0, 1]])\n",
        "\n",
        "# Define your 3x1 vector v\n",
        "v = np.array([[1, 5, 9]]).T  # Transpose to make it a column vector\n",
        "\n",
        "# Perform matrix multiplication\n",
        "result = np.dot(A, v)\n",
        "\n",
        "print(\"Result:\")\n",
        "print(result)\n",
        "# Define your 3x1 vector v\n",
        "v1 = np.array([10, 11, 12])\n",
        "\n",
        "# Perform matrix-vector multiplication\n",
        "result1 = np.dot(A, v1)\n",
        "print(\"Result1:\")\n",
        "print(result1)\n"
      ],
      "metadata": {
        "colab": {
          "base_uri": "https://localhost:8080/"
        },
        "id": "IhXKW4U9r1jg",
        "outputId": "7f487481-5433-4ea3-e816-c2c4da0697e0"
      },
      "execution_count": null,
      "outputs": [
        {
          "output_type": "stream",
          "name": "stdout",
          "text": [
            "Result:\n",
            "[[15]\n",
            " [ 7]\n",
            " [10]]\n",
            "Result1:\n",
            "[33 31 22]\n"
          ]
        }
      ]
    },
    {
      "cell_type": "code",
      "source": [
        "#Create a 4x4 identity matrix and multiply it by a 4x4 matrix filled with random integer.\n",
        "import numpy as np\n",
        "#create 4x4 identity matrix\n",
        "identity_matrix = np.identity(4)\n",
        "print(\"Identity Matrix:\")\n",
        "print(identity_matrix)\n",
        "#create 4x4 matrix filled with random integer\n",
        "random_matrix = np.random.randint(0, 10, size=(4, 4))\n",
        "print(\"\\nRandom Integer Matrix:\")\n",
        "print(random_matrix)\n",
        "#multiply\n",
        "result_matrix = np.dot(identity_matrix, random_matrix)\n",
        "print(\"\\nResult Matrix:\")\n",
        "print(result_matrix)\n"
      ],
      "metadata": {
        "colab": {
          "base_uri": "https://localhost:8080/"
        },
        "id": "Smx8ZN_DwnPD",
        "outputId": "48892bb2-66ea-4ec8-8ddd-88755efddb23"
      },
      "execution_count": null,
      "outputs": [
        {
          "output_type": "stream",
          "name": "stdout",
          "text": [
            "Identity Matrix:\n",
            "[[1. 0. 0. 0.]\n",
            " [0. 1. 0. 0.]\n",
            " [0. 0. 1. 0.]\n",
            " [0. 0. 0. 1.]]\n",
            "\n",
            "Random Integer Matrix:\n",
            "[[6 1 0 0]\n",
            " [7 0 6 1]\n",
            " [9 7 3 9]\n",
            " [8 7 3 8]]\n",
            "\n",
            "Result Matrix:\n",
            "[[6. 1. 0. 0.]\n",
            " [7. 0. 6. 1.]\n",
            " [9. 7. 3. 9.]\n",
            " [8. 7. 3. 8.]]\n"
          ]
        }
      ]
    },
    {
      "cell_type": "code",
      "source": [
        "#perform matrix multiplication on two 3x3 matrix\n",
        "a=[[1,2,3],[4,5,6],[7,8,9]]\n",
        "b=[[9,8,7],[6,5,4],[3,2,1]]\n",
        "print(\"Matrix Multiplication\")\n",
        "print(np.dot(a,b))"
      ],
      "metadata": {
        "colab": {
          "base_uri": "https://localhost:8080/"
        },
        "id": "f-WwRNo91I98",
        "outputId": "d7c806ff-91fc-47a3-a969-c7733aba1539"
      },
      "execution_count": null,
      "outputs": [
        {
          "output_type": "stream",
          "name": "stdout",
          "text": [
            "Matrix Multiplication\n",
            "[[ 30  24  18]\n",
            " [ 84  69  54]\n",
            " [138 114  90]]\n"
          ]
        }
      ]
    },
    {
      "cell_type": "code",
      "source": [
        "#Create a 2x3 matrix and a 3x2 matrix.perform matrix multiplication.\n",
        "import numpy as np\n",
        "\n",
        "# create matrices\n",
        "A = np.array([[1, 2, 3], [4, 5, 6]])\n",
        "B = np.array([[7, 8], [9, 10], [11, 12]])\n",
        "\n",
        "# Calculate the dot product (matrix multiplication)\n",
        "result = np.dot(A, B)\n",
        "\n",
        "print(\"Result of matrix multiplication:\")\n",
        "print(result)\n"
      ],
      "metadata": {
        "colab": {
          "base_uri": "https://localhost:8080/"
        },
        "id": "-zH6hRXn3q7n",
        "outputId": "a7093a9e-f521-4f7a-ed5b-c0dd1c6bd547"
      },
      "execution_count": null,
      "outputs": [
        {
          "output_type": "stream",
          "name": "stdout",
          "text": [
            "Result of matrix multiplication:\n",
            "[[ 58  64]\n",
            " [139 154]]\n"
          ]
        }
      ]
    },
    {
      "cell_type": "markdown",
      "source": [
        "Broadcasting"
      ],
      "metadata": {
        "id": "CBU00OS_4fWh"
      }
    },
    {
      "cell_type": "code",
      "source": [
        "#create 1D array subtract a scalar value ,5, using broadcasting. python program\n",
        "import numpy as np\n",
        "\n",
        "# Create a 1D array\n",
        "array = np.array([10, 20, 30])\n",
        "scalar_value=5\n",
        "\n",
        "# Subtract the scalar value 5 from each element in the array using broadcasting\n",
        "result = array - scalar_value\n",
        "\n",
        "print(\"Original array:\", array)\n",
        "print(\"Resulting array after subtracting 5:\", result)\n"
      ],
      "metadata": {
        "id": "yG9gFlZU4mT1",
        "colab": {
          "base_uri": "https://localhost:8080/"
        },
        "outputId": "a3ae96f3-865e-44c0-8f64-b35e7d0e4bd7"
      },
      "execution_count": null,
      "outputs": [
        {
          "output_type": "stream",
          "name": "stdout",
          "text": [
            "Original array: [10 20 30]\n",
            "Resulting array after subtracting 5: [ 5 15 25]\n"
          ]
        }
      ]
    },
    {
      "cell_type": "code",
      "source": [
        "#Create a 3x3 array and a 3x1. Add them using broadcasting\n",
        "import numpy as np\n",
        "# Create a 3x3 array\n",
        "array_3x3 = np.array([[1, 2, 3],[4, 5, 6],[7, 8, 9]])\n",
        "# Create a 3x1 array\n",
        "array_3x1 = np.array([[1],[2],[3]])\n",
        "# Add the arrays using broadcasting\n",
        "result = array_3x3 + array_3x1\n",
        "print(\"\\nResult of Broadcasting Addition:\")\n",
        "print(result)\n"
      ],
      "metadata": {
        "colab": {
          "base_uri": "https://localhost:8080/"
        },
        "id": "b6h_yqzS6jsL",
        "outputId": "23d6ba90-59bd-4074-e36d-896df4ed8bf1"
      },
      "execution_count": null,
      "outputs": [
        {
          "output_type": "stream",
          "name": "stdout",
          "text": [
            "\n",
            "Result of Broadcasting Addition:\n",
            "[[ 2  3  4]\n",
            " [ 6  7  8]\n",
            " [10 11 12]]\n"
          ]
        }
      ]
    },
    {
      "cell_type": "code",
      "source": [
        "#Divide a 4x4 array by a scalar value ,2, using broadcasting\n",
        "#Create 4x4 array\n",
        "array_3x3 = np.array([[1, 2, 3],[4, 5, 6],[7, 8, 9],[1, 4, 7]])\n",
        "Scalar_value=2\n",
        "#Divide the array by the scalar value\n",
        "result=array_3x3/Scalar_value\n",
        "print(\"\\nResult of Broadcalting Dividing\")\n",
        "print(result)"
      ],
      "metadata": {
        "colab": {
          "base_uri": "https://localhost:8080/"
        },
        "id": "bL5ldfH0-FpE",
        "outputId": "2030eddd-39bb-4a43-da84-3b4120aa8a95"
      },
      "execution_count": null,
      "outputs": [
        {
          "output_type": "stream",
          "name": "stdout",
          "text": [
            "\n",
            "Result of Broadcalting Dividing\n",
            "[[0.5 1.  1.5]\n",
            " [2.  2.5 3. ]\n",
            " [3.5 4.  4.5]\n",
            " [0.5 2.  3.5]]\n"
          ]
        }
      ]
    },
    {
      "cell_type": "code",
      "source": [
        "#Create a 3x3 array and add 3 to each element using broadcasting\n",
        "import numpy as np\n",
        "# Create a 3x3 array\n",
        "array_3x3 = np.array([[1, 2, 3],[4, 5, 6],[7, 8, 9]])\n",
        "#add 3 value\n",
        "result=array_3x3+3\n",
        "print(\"\\nResult of Broadcasting addition\")\n",
        "print(result)"
      ],
      "metadata": {
        "colab": {
          "base_uri": "https://localhost:8080/"
        },
        "id": "43N2vOkeAzZS",
        "outputId": "8c9b93bc-0711-441b-af3f-898b94b63acd"
      },
      "execution_count": null,
      "outputs": [
        {
          "output_type": "stream",
          "name": "stdout",
          "text": [
            "\n",
            "Result of Broadcasting addition\n",
            "[[ 4  5  6]\n",
            " [ 7  8  9]\n",
            " [10 11 12]]\n"
          ]
        }
      ]
    },
    {
      "cell_type": "code",
      "source": [
        "#Multiply a 1D array of shape(5),by a 2D array of shape(5,5) using broadcasting.\n",
        "import numpy as np\n",
        "\n",
        "# create the 1D array\n",
        "array_1d = np.array([1, 2, 3, 4, 5])\n",
        "\n",
        "# Define the 2D array\n",
        "array_2d = np.array([\n",
        "    [1, 2, 3, 4, 5],\n",
        "    [6, 7, 8, 9, 10],\n",
        "    [11, 12, 13, 14, 15],\n",
        "    [16, 17, 18, 19, 20],\n",
        "    [21, 22, 23, 24, 25]\n",
        "])\n",
        "\n",
        "# Multiply using broadcasting\n",
        "result = array_2d * array_1d[:, np.newaxis]\n",
        "\n",
        "print(\"Result of multiplication:\")\n",
        "print(result)"
      ],
      "metadata": {
        "colab": {
          "base_uri": "https://localhost:8080/"
        },
        "id": "4ngLkiUZDOsL",
        "outputId": "2de316c3-7fb3-47e5-90f8-6405460e7124"
      },
      "execution_count": null,
      "outputs": [
        {
          "output_type": "stream",
          "name": "stdout",
          "text": [
            "Result of multiplication:\n",
            "[[  1   2   3   4   5]\n",
            " [ 12  14  16  18  20]\n",
            " [ 33  36  39  42  45]\n",
            " [ 64  68  72  76  80]\n",
            " [105 110 115 120 125]]\n"
          ]
        }
      ]
    },
    {
      "cell_type": "markdown",
      "source": [
        "Statistical Operations"
      ],
      "metadata": {
        "id": "TOtS37PJK_Po"
      }
    },
    {
      "cell_type": "code",
      "source": [
        "#Calculate the median of the array:data\n",
        "import numpy as np\n",
        "data=[1,2,3,4,5,6,7,8,9,10]\n",
        "median=np.median(data)\n",
        "print(median)\n"
      ],
      "metadata": {
        "colab": {
          "base_uri": "https://localhost:8080/"
        },
        "id": "XXD6K0q8LIc3",
        "outputId": "bb6bc907-dd6d-4d54-ffa9-715bb04c813d"
      },
      "execution_count": null,
      "outputs": [
        {
          "output_type": "stream",
          "name": "stdout",
          "text": [
            "5.5\n"
          ]
        }
      ]
    },
    {
      "cell_type": "code",
      "source": [
        "#Calculate the mode of the array:data\n",
        "import numpy as np\n",
        "from scipy import stats\n",
        "# Sample data array\n",
        "data = np.array([1, 2, 2, 3, 4, 4, 4, 5, 6])\n",
        "\n",
        "# Calculate the mode\n",
        "mode_result = stats.mode(data)\n",
        "\n",
        "# Print the mode\n",
        "print( mode_result)\n"
      ],
      "metadata": {
        "colab": {
          "base_uri": "https://localhost:8080/"
        },
        "id": "b3iN7udtMgHw",
        "outputId": "4b9b3fb1-8625-4705-d477-4a7c0ef5124b"
      },
      "execution_count": null,
      "outputs": [
        {
          "output_type": "stream",
          "name": "stdout",
          "text": [
            "ModeResult(mode=4, count=3)\n"
          ]
        }
      ]
    },
    {
      "cell_type": "code",
      "source": [
        "#Calculate the range of the array:data\n",
        "import numpy as np\n",
        "data = np.array([10, 20,30,40,50])\n",
        "range_of_data = np.ptp(data)\n",
        "print(\"The range of the array is:\", range_of_data)\n"
      ],
      "metadata": {
        "colab": {
          "base_uri": "https://localhost:8080/"
        },
        "id": "q106o5bsUbtw",
        "outputId": "c368fa8c-7063-4c93-990f-c57b7d2cfe7f"
      },
      "execution_count": null,
      "outputs": [
        {
          "output_type": "stream",
          "name": "stdout",
          "text": [
            "The range of the array is: 40\n"
          ]
        }
      ]
    },
    {
      "cell_type": "code",
      "source": [
        "#Calculate the 25th percentile of the array:data*\n",
        "import numpy as np\n",
        "\n",
        "# Sample data array\n",
        "data = np.array([1, 3, 3, 4, 5, 6, 7, 8, 9, 10])\n",
        "\n",
        "# Calculate the 25th percentile\n",
        "percentile_25 = np.percentile(data, 25)\n",
        "\n",
        "print(percentile_25)\n"
      ],
      "metadata": {
        "colab": {
          "base_uri": "https://localhost:8080/"
        },
        "id": "Hc42PdILWqZm",
        "outputId": "0b75ec39-c6ea-478f-becf-02df8e0f9a9b"
      },
      "execution_count": null,
      "outputs": [
        {
          "output_type": "stream",
          "name": "stdout",
          "text": [
            "3.25\n"
          ]
        }
      ]
    },
    {
      "cell_type": "code",
      "source": [
        "#Calculate the correlation coefficient between two arrays: a = [1, 2, 3, 4, 5] and b = [2,\n",
        "#4, 6, 8, 10].\n",
        "import numpy as np\n",
        "\n",
        "# Define the arrays\n",
        "a = np.array([1, 2, 3, 4, 5])\n",
        "b = np.array([2, 4, 6, 8, 10])\n",
        "\n",
        "# Calculate the correlation coefficient\n",
        "correlation_matrix = np.corrcoef(a, b)\n",
        "correlation_coefficient = correlation_matrix[0, 1]\n",
        "\n",
        "print(\"Correlation Coefficient:\", correlation_coefficient)\n"
      ],
      "metadata": {
        "colab": {
          "base_uri": "https://localhost:8080/"
        },
        "id": "brfQW9iTQxoK",
        "outputId": "581fae98-98bf-4312-860b-0213f3a4b515"
      },
      "execution_count": null,
      "outputs": [
        {
          "output_type": "stream",
          "name": "stdout",
          "text": [
            "Correlation Coefficient: 0.9999999999999999\n"
          ]
        }
      ]
    },
    {
      "cell_type": "markdown",
      "source": [
        "Reshaping Arrays"
      ],
      "metadata": {
        "id": "v3IfsvltTuJt"
      }
    },
    {
      "cell_type": "code",
      "source": [
        "#Reshape a 1D array of 12 elements to a 3x4 array.\n",
        "import numpy as np\n",
        "\n",
        "# Create a 1D array with 12 elements\n",
        "array_1d = np.arange(12)\n",
        "\n",
        "# Reshape the array to 3x4\n",
        "array_2d = array_1d.reshape(3, 4)\n",
        "\n",
        "print(array_2d)\n",
        "\n"
      ],
      "metadata": {
        "colab": {
          "base_uri": "https://localhost:8080/"
        },
        "id": "ByGP9vFKQy9K",
        "outputId": "cdcf837c-df40-4b7d-e66a-6f6d1d7084f9"
      },
      "execution_count": null,
      "outputs": [
        {
          "output_type": "stream",
          "name": "stdout",
          "text": [
            "[[ 0  1  2  3]\n",
            " [ 4  5  6  7]\n",
            " [ 8  9 10 11]]\n"
          ]
        }
      ]
    },
    {
      "cell_type": "code",
      "source": [
        "#Reshape a 2D array of shape (6, 2) to (3, 4).\n",
        "import numpy as np\n",
        "\n",
        "# Original array of shape (6, 2)\n",
        "original_array = np.array([[1, 2], [3, 4], [5, 6], [7, 8], [9, 10], [11, 12]])\n",
        "\n",
        "# Reshape to (3, 4)\n",
        "reshaped_array = original_array.reshape(3, 4)\n",
        "\n",
        "print(\"Original array:\")\n",
        "print(original_array)\n",
        "print(\"\\nReshaped array:\")\n",
        "print(reshaped_array)\n"
      ],
      "metadata": {
        "colab": {
          "base_uri": "https://localhost:8080/"
        },
        "id": "YyLj3JqDVyhn",
        "outputId": "a9df0564-e677-4ff7-bf34-6c44c599330d"
      },
      "execution_count": null,
      "outputs": [
        {
          "output_type": "stream",
          "name": "stdout",
          "text": [
            "Original array:\n",
            "[[ 1  2]\n",
            " [ 3  4]\n",
            " [ 5  6]\n",
            " [ 7  8]\n",
            " [ 9 10]\n",
            " [11 12]]\n",
            "\n",
            "Reshaped array:\n",
            "[[ 1  2  3  4]\n",
            " [ 5  6  7  8]\n",
            " [ 9 10 11 12]]\n"
          ]
        }
      ]
    },
    {
      "cell_type": "code",
      "source": [
        "#Create a 4x4 array and flatten it.\n",
        "import numpy as np\n",
        "\n",
        "# Create a 4x4 array\n",
        "array_4x4 = np.array([[1, 2, 3, 4],\n",
        "                      [5, 6, 7, 8],\n",
        "                      [9, 10, 11, 12],\n",
        "                      [13, 14, 15, 16]])\n",
        "\n",
        "# Flatten the array\n",
        "flattened_array = array_4x4.flatten()\n",
        "\n",
        "print(\"Original 4x4 array:\")\n",
        "print(array_4x4)\n",
        "print(\"\\nFlattened array:\")\n",
        "print(flattened_array)\n"
      ],
      "metadata": {
        "colab": {
          "base_uri": "https://localhost:8080/"
        },
        "id": "-rvKy4AIZUep",
        "outputId": "65e58074-327b-4372-8260-7b3ffd06de8e"
      },
      "execution_count": null,
      "outputs": [
        {
          "output_type": "stream",
          "name": "stdout",
          "text": [
            "Original 4x4 array:\n",
            "[[ 1  2  3  4]\n",
            " [ 5  6  7  8]\n",
            " [ 9 10 11 12]\n",
            " [13 14 15 16]]\n",
            "\n",
            "Flattened array:\n",
            "[ 1  2  3  4  5  6  7  8  9 10 11 12 13 14 15 16]\n"
          ]
        }
      ]
    },
    {
      "cell_type": "code",
      "source": [
        "#Reshape a 3D array of shape (2, 3, 4) to (4, 3, 2).\n",
        "import numpy as np\n",
        "\n",
        "# Create an array of shape (2, 3, 4)\n",
        "array = np.arange(24).reshape(2, 3, 4)\n",
        "\n",
        "# Reshape the array to shape (4, 3, 2)\n",
        "reshaped_array = array.reshape(4, 3, 2)\n",
        "\n",
        "print(\"Original array shape:\", array.shape)\n",
        "print(\"Reshaped array shape:\", reshaped_array.shape)\n",
        "print(\"Reshaped array:\\n\", reshaped_array)\n"
      ],
      "metadata": {
        "colab": {
          "base_uri": "https://localhost:8080/"
        },
        "id": "V9gtfhD0aMK5",
        "outputId": "bbcb7ffe-ee19-4573-ac9f-66b8e86be341"
      },
      "execution_count": null,
      "outputs": [
        {
          "output_type": "stream",
          "name": "stdout",
          "text": [
            "Original array shape: (2, 3, 4)\n",
            "Reshaped array shape: (4, 3, 2)\n",
            "Reshaped array:\n",
            " [[[ 0  1]\n",
            "  [ 2  3]\n",
            "  [ 4  5]]\n",
            "\n",
            " [[ 6  7]\n",
            "  [ 8  9]\n",
            "  [10 11]]\n",
            "\n",
            " [[12 13]\n",
            "  [14 15]\n",
            "  [16 17]]\n",
            "\n",
            " [[18 19]\n",
            "  [20 21]\n",
            "  [22 23]]]\n"
          ]
        }
      ]
    },
    {
      "cell_type": "code",
      "source": [
        "#Reshape a 1D array to a 2D array with 1 row and many columns.\n",
        "import numpy as np\n",
        "# Create a 1D array\n",
        "array_1d = np.array([1, 2, 3, 4, 5, 6])\n",
        "\n",
        "# Reshape the 1D array to a 2D array with 1 row and many columns\n",
        "array_2d = array_1d.reshape(1, -1)\n",
        "\n",
        "print(array_2d)"
      ],
      "metadata": {
        "colab": {
          "base_uri": "https://localhost:8080/"
        },
        "id": "xJKS0B93d8nz",
        "outputId": "1e60726b-05ea-4743-875f-be33a5dc6896"
      },
      "execution_count": null,
      "outputs": [
        {
          "output_type": "stream",
          "name": "stdout",
          "text": [
            "[[1 2 3 4 5 6]]\n"
          ]
        }
      ]
    },
    {
      "cell_type": "markdown",
      "source": [
        "Element-wise Operations"
      ],
      "metadata": {
        "id": "VZ2w6L9zfunO"
      }
    },
    {
      "cell_type": "code",
      "source": [
        "#Create two arrays: a = [1, 3, 5] and b = [2, 4, 6]. Perform element-wise division.\n",
        "import numpy as np\n",
        "a = [1, 3, 5]\n",
        "b = [2, 4, 6]\n",
        "Division=np.divide(a,b)\n",
        "print(Division)"
      ],
      "metadata": {
        "id": "Skj5M9zEf5Il",
        "colab": {
          "base_uri": "https://localhost:8080/"
        },
        "outputId": "400a76f4-7404-4a0d-e862-c605880d59af"
      },
      "execution_count": null,
      "outputs": [
        {
          "output_type": "stream",
          "name": "stdout",
          "text": [
            "[0.5        0.75       0.83333333]\n"
          ]
        }
      ]
    },
    {
      "cell_type": "code",
      "source": [
        "#Create two arrays: a = [2, 4, 6] and b = [1, 3, 5]. Perform element-wise modulus.\n",
        "import numpy as np\n",
        "a = [2, 4, 6]\n",
        "b = [1, 3, 5]\n",
        "Modulus=np.mod(a,b)\n",
        "print(Modulus)"
      ],
      "metadata": {
        "id": "zwBiylVugAKy",
        "colab": {
          "base_uri": "https://localhost:8080/"
        },
        "outputId": "166d33b2-49f6-41eb-8a57-22ac3683f129"
      },
      "execution_count": null,
      "outputs": [
        {
          "output_type": "stream",
          "name": "stdout",
          "text": [
            "[0 1 1]\n"
          ]
        }
      ]
    },
    {
      "cell_type": "code",
      "source": [
        "#Add 10 to each element in the array: a = [1, 2, 3, 4, 5].\n",
        "import numpy as np\n",
        "a = [1, 2, 3, 4, 5]\n",
        "add=np.add(a,10)\n",
        "print(add)"
      ],
      "metadata": {
        "id": "z6Q2xcoWgGbz",
        "colab": {
          "base_uri": "https://localhost:8080/"
        },
        "outputId": "ac071561-1211-402b-91d6-ce66006e2382"
      },
      "execution_count": null,
      "outputs": [
        {
          "output_type": "stream",
          "name": "stdout",
          "text": [
            "[11 12 13 14 15]\n"
          ]
        }
      ]
    },
    {
      "cell_type": "code",
      "source": [
        "#Subtract 5 from each element in the array: b = [10, 20, 30, 40, 50].\n",
        "import numpy as np\n",
        "b = [10, 20, 30, 40, 50]\n",
        "subtract=np.subtract(b,5)\n",
        "print(subtract)\n"
      ],
      "metadata": {
        "id": "O1vMuFz-gKYi",
        "colab": {
          "base_uri": "https://localhost:8080/"
        },
        "outputId": "fdf4f7fc-4d71-4e93-9189-ff9be728c307"
      },
      "execution_count": null,
      "outputs": [
        {
          "output_type": "stream",
          "name": "stdout",
          "text": [
            "[ 5 15 25 35 45]\n"
          ]
        }
      ]
    },
    {
      "cell_type": "code",
      "source": [
        "#Square each element in the array: c = [1, 2, 3, 4, 5].\n",
        "import numpy as np\n",
        "c = np.array([1, 2, 3, 4, 5])\n",
        "squared_c = np.square(c)\n",
        "#squared_c=np.power(c,2)\n",
        "print(squared_c)"
      ],
      "metadata": {
        "colab": {
          "base_uri": "https://localhost:8080/"
        },
        "id": "2dK-rixNgPjT",
        "outputId": "2a0fdbcd-0c67-480e-d693-523496ba1ac5"
      },
      "execution_count": null,
      "outputs": [
        {
          "output_type": "stream",
          "name": "stdout",
          "text": [
            "[ 1  4  9 16 25]\n"
          ]
        }
      ]
    },
    {
      "cell_type": "markdown",
      "source": [
        "Slicing and Indexing"
      ],
      "metadata": {
        "id": "Rel9LO18lvjg"
      }
    },
    {
      "cell_type": "code",
      "source": [
        "#Create a 3D array: array_3d = [[[1, 2, 3], [4, 5, 6]], [[7, 8, 9], [10, 11, 12]]]. Access the element at [1, 1, 1].*****\n",
        "import numpy as np\n",
        "array_3d = np.array([[[1, 2, 3], [4, 5, 6]], [[7, 8, 9], [10, 11, 12]]])\n",
        "element_at_1=array_3d[1, 1, 1]\n",
        "print(element_at_1)\n"
      ],
      "metadata": {
        "id": "Omskg8TsmOYW",
        "colab": {
          "base_uri": "https://localhost:8080/"
        },
        "outputId": "8a1bd86b-7ae5-42bc-de4d-9b25e24ca351"
      },
      "execution_count": 307,
      "outputs": [
        {
          "output_type": "stream",
          "name": "stdout",
          "text": [
            "11\n"
          ]
        }
      ]
    },
    {
      "cell_type": "code",
      "source": [
        "#Slice the first layer of a 3D array: array_3d = [[[1, 2, 3], [4, 5, 6]], [[7, 8, 9], [10, 11,12]]].\n",
        "import numpy as np\n",
        "array_3d = np.array([[[1, 2, 3], [4, 5, 6]], [[7, 8, 9], [10, 11, 12]]])\n",
        "first_layer_slice = array_3d[0]\n",
        "print(first_layer_slice)\n"
      ],
      "metadata": {
        "colab": {
          "base_uri": "https://localhost:8080/"
        },
        "id": "AO_XkZR9mVAn",
        "outputId": "c3aa1b7d-f79d-4d81-94d9-236bad435d6d"
      },
      "execution_count": 308,
      "outputs": [
        {
          "output_type": "stream",
          "name": "stdout",
          "text": [
            "[[1 2 3]\n",
            " [4 5 6]]\n"
          ]
        }
      ]
    },
    {
      "cell_type": "code",
      "source": [
        "#Access all elements in the last row of the array: array_2d = [[10, 20, 30], [40, 50, 60],[70, 80, 90]].\n",
        "array_2d = [[10, 20, 30], [40, 50, 60], [70, 80, 90]]\n",
        "last_row = array_2d[-1]  # Get the last row\n",
        "print(last_row)  # Output: [70, 80, 90]\n"
      ],
      "metadata": {
        "colab": {
          "base_uri": "https://localhost:8080/"
        },
        "id": "F5UcgEmLmcNP",
        "outputId": "d437e36f-2267-480d-ef83-d790ab27095f"
      },
      "execution_count": 309,
      "outputs": [
        {
          "output_type": "stream",
          "name": "stdout",
          "text": [
            "[70, 80, 90]\n"
          ]
        }
      ]
    },
    {
      "cell_type": "code",
      "source": [
        "#Access all elements in the first column of the array: array_2d = [[10, 20, 30], [40, 50,60], [70, 80, 90]].\n",
        "array_2d = np.array([[10, 20, 30], [40, 50, 60], [70, 80, 90]])\n",
        "last_row = array_2d[:,0]  #\n",
        "print(last_row)  # Output: [70, 80, 90]\n"
      ],
      "metadata": {
        "colab": {
          "base_uri": "https://localhost:8080/"
        },
        "id": "MCDeAT9zmjRI",
        "outputId": "c0a24495-6a2c-484f-8810-8fcd22e19140"
      },
      "execution_count": 310,
      "outputs": [
        {
          "output_type": "stream",
          "name": "stdout",
          "text": [
            "[10 40 70]\n"
          ]
        }
      ]
    },
    {
      "cell_type": "code",
      "source": [
        "#Slice the last two rows and columns of the array: array_2d = [[10, 20, 30], [40, 50,60], [70, 80, 90]].\n",
        "array_2d = np.array([[10, 20, 30], [40, 50,60], [70, 80, 90]])\n",
        "Last_two_rows=array_2d[-2:,-2:]\n",
        "print(Last_two_rows)\n",
        "#Last_two_coloumns=array_2d[:,-2:]\n",
        "#print(Last_two_coloumns)"
      ],
      "metadata": {
        "id": "K6nDdaJUm7nf",
        "colab": {
          "base_uri": "https://localhost:8080/"
        },
        "outputId": "a9398994-8cf6-4228-c9e1-73463b568fb9"
      },
      "execution_count": 311,
      "outputs": [
        {
          "output_type": "stream",
          "name": "stdout",
          "text": [
            "[[50 60]\n",
            " [80 90]]\n"
          ]
        }
      ]
    },
    {
      "cell_type": "markdown",
      "source": [
        "Creating Random Arrays"
      ],
      "metadata": {
        "id": "VVI8TEfTmFIQ"
      }
    },
    {
      "cell_type": "code",
      "source": [
        "#Generate a random array of 20 elements with values between 0 and 1.\n",
        "import numpy as np\n",
        "random_array=np.random.randint(0,1,size=20)\n",
        "print(random_array)\n"
      ],
      "metadata": {
        "colab": {
          "base_uri": "https://localhost:8080/"
        },
        "id": "yF1pCJmjErOg",
        "outputId": "d96a0458-3665-409a-c16d-81f4627f0d6d"
      },
      "execution_count": 312,
      "outputs": [
        {
          "output_type": "stream",
          "name": "stdout",
          "text": [
            "[0 0 0 0 0 0 0 0 0 0 0 0 0 0 0 0 0 0 0 0]\n"
          ]
        }
      ]
    },
    {
      "cell_type": "code",
      "source": [
        "#Create a 4x4 array with random integers between 10 and 20.\n",
        "import numpy as np\n",
        "random_array=np.random.randint(10,20,size=(4,4))\n",
        "print(random_array)\n"
      ],
      "metadata": {
        "colab": {
          "base_uri": "https://localhost:8080/"
        },
        "id": "YPuAFZEQFLR2",
        "outputId": "3035cb8e-4529-4df2-83f7-a42c728261c9"
      },
      "execution_count": 313,
      "outputs": [
        {
          "output_type": "stream",
          "name": "stdout",
          "text": [
            "[[11 11 14 13]\n",
            " [16 16 15 11]\n",
            " [11 14 15 15]\n",
            " [11 19 16 10]]\n"
          ]
        }
      ]
    },
    {
      "cell_type": "code",
      "source": [
        "#Create a 3x3 array with random floats between -1 and 1.\n",
        "import numpy as np\n",
        "random_array=np.random.uniform(-1,1,size=(3,3))\n",
        "print(random_array)"
      ],
      "metadata": {
        "colab": {
          "base_uri": "https://localhost:8080/"
        },
        "id": "hfNJFhbiFQGG",
        "outputId": "7d4d8808-aba3-4e3b-80fc-53943e3b07d0"
      },
      "execution_count": 314,
      "outputs": [
        {
          "output_type": "stream",
          "name": "stdout",
          "text": [
            "[[-0.84065213 -0.27496679 -0.01834572]\n",
            " [-0.26453934  0.43553604 -0.41390284]\n",
            " [-0.80742194  0.47100618  0.56388689]]\n"
          ]
        }
      ]
    },
    {
      "cell_type": "code",
      "source": [
        "#Generate an array of 15 random integers between 100 and 200.\n",
        "import numpy as np\n",
        "random_array=np.random.randint(100,200,size=15)\n",
        "print(random_array)"
      ],
      "metadata": {
        "colab": {
          "base_uri": "https://localhost:8080/"
        },
        "id": "V_ywHKGsFTxG",
        "outputId": "de2c6ab7-afe2-4c30-b895-6f97357244e7"
      },
      "execution_count": 315,
      "outputs": [
        {
          "output_type": "stream",
          "name": "stdout",
          "text": [
            "[135 121 162 174 189 133 134 102 150 117 109 123 158 185 196]\n"
          ]
        }
      ]
    },
    {
      "cell_type": "code",
      "source": [
        "#Create a 5x5 array with random floats between 0 and 10.\n",
        "import numpy as np\n",
        "random_array=np.random.uniform(0,10,size=(5,5))\n",
        "print(random_array)\n"
      ],
      "metadata": {
        "colab": {
          "base_uri": "https://localhost:8080/"
        },
        "id": "AmvhXvWeFXvW",
        "outputId": "2773c088-f788-4124-8737-5f881825788c"
      },
      "execution_count": 316,
      "outputs": [
        {
          "output_type": "stream",
          "name": "stdout",
          "text": [
            "[[0.39976932 2.85731735 5.55788769 4.2084747  4.51011603]\n",
            " [0.15929353 7.78987    1.94216578 4.69775769 1.62888897]\n",
            " [4.38486871 6.56087638 6.0857615  0.21009259 4.55009995]\n",
            " [5.5044334  3.13500836 8.75535349 6.07179194 7.40331975]\n",
            " [3.56399124 9.57762097 6.84605411 5.77193569 9.52111341]]\n"
          ]
        }
      ]
    },
    {
      "cell_type": "markdown",
      "source": [
        "Stacking and Concatenating Arrays"
      ],
      "metadata": {
        "id": "j45dqc65mIYJ"
      }
    },
    {
      "cell_type": "code",
      "source": [
        "#Vertically stack two arrays: a = [[1, 2], [3, 4]] and b = [[5, 6], [7, 8]].\n",
        "import numpy as np\n",
        "a = [[1, 2], [3, 4]]\n",
        "b = [[5, 6], [7, 8]]\n",
        "stacked_array=np.vstack((a,b))\n",
        "print(stacked_array)\n",
        "\n"
      ],
      "metadata": {
        "colab": {
          "base_uri": "https://localhost:8080/"
        },
        "id": "VdAfrvGGK7zl",
        "outputId": "3a8a9b5b-2f0f-42d3-f076-8927c01467f9"
      },
      "execution_count": 317,
      "outputs": [
        {
          "output_type": "stream",
          "name": "stdout",
          "text": [
            "[[1 2]\n",
            " [3 4]\n",
            " [5 6]\n",
            " [7 8]]\n"
          ]
        }
      ]
    },
    {
      "cell_type": "code",
      "source": [
        "#Horizontally stack two arrays: a = [[1, 2], [3, 4]] and b = [[5, 6], [7, 8]].\n",
        "import numpy as np\n",
        "a = [[1, 2], [3, 4]]\n",
        "b = [[5, 6], [7, 8]]\n",
        "stacked_array=np.hstack((a,b))\n",
        "print(stacked_array)\n",
        "\n"
      ],
      "metadata": {
        "colab": {
          "base_uri": "https://localhost:8080/"
        },
        "id": "mvsbMDy3LaZn",
        "outputId": "b18b488c-bdfa-4692-be69-0135bf9d71d9"
      },
      "execution_count": 318,
      "outputs": [
        {
          "output_type": "stream",
          "name": "stdout",
          "text": [
            "[[1 2 5 6]\n",
            " [3 4 7 8]]\n"
          ]
        }
      ]
    },
    {
      "cell_type": "code",
      "source": [
        "#Concatenate two 1D arrays: a = [1, 2, 3] and b = [4, 5, 6].\n",
        "import numpy as np\n",
        "a = [1, 2, 3]\n",
        "b = [4, 5, 6]\n",
        "Concatenated_array=np.concatenate((a,b))\n",
        "print(Concatenated_array)\n",
        "\n",
        "\n"
      ],
      "metadata": {
        "colab": {
          "base_uri": "https://localhost:8080/"
        },
        "id": "ubnYwaM9LbTz",
        "outputId": "a61296d4-b2bc-4f1e-ffb2-325dc45cd506"
      },
      "execution_count": 319,
      "outputs": [
        {
          "output_type": "stream",
          "name": "stdout",
          "text": [
            "[1 2 3 4 5 6]\n"
          ]
        }
      ]
    },
    {
      "cell_type": "code",
      "source": [
        "#Concatenate two 3x3 arrays along rows: a = [[1, 2, 3], [4, 5, 6], [7, 8, 9]] and b = [[10,11, 12], [13, 14, 15], [16, 17, 18]].\n",
        "a = [[1, 2, 3], [4, 5, 6], [7, 8, 9]]\n",
        "b = [[10,11, 12], [13, 14, 15], [16, 17, 18]]\n",
        "Concatenated_array=np.concatenate((a,b),axis=0)\n",
        "print(Concatenated_array)\n",
        "\n",
        "\n"
      ],
      "metadata": {
        "colab": {
          "base_uri": "https://localhost:8080/"
        },
        "id": "KlrBC2NoLfI8",
        "outputId": "13b0717a-6b86-4c93-bcc0-4354471b26b0"
      },
      "execution_count": 320,
      "outputs": [
        {
          "output_type": "stream",
          "name": "stdout",
          "text": [
            "[[ 1  2  3]\n",
            " [ 4  5  6]\n",
            " [ 7  8  9]\n",
            " [10 11 12]\n",
            " [13 14 15]\n",
            " [16 17 18]]\n"
          ]
        }
      ]
    },
    {
      "cell_type": "code",
      "source": [
        "#Concatenate two 3x3 arrays along columns: a = [[1, 2, 3], [4, 5, 6], [7, 8, 9]] and b =[[10, 11, 12], [13, 14, 15], [16, 17, 18]].\n",
        "a = [[1, 2, 3], [4, 5, 6], [7, 8, 9]]\n",
        "b =[[10, 11, 12], [13, 14, 15], [16, 17, 18]]\n",
        "Concatenated_array=np.concatenate((a,b),axis=1)\n",
        "print(Concatenated_array)\n"
      ],
      "metadata": {
        "colab": {
          "base_uri": "https://localhost:8080/"
        },
        "id": "20A7z1_lLhOz",
        "outputId": "920b7a14-f6e5-4a19-c27e-a0348b609667"
      },
      "execution_count": 321,
      "outputs": [
        {
          "output_type": "stream",
          "name": "stdout",
          "text": [
            "[[ 1  2  3 10 11 12]\n",
            " [ 4  5  6 13 14 15]\n",
            " [ 7  8  9 16 17 18]]\n"
          ]
        }
      ]
    }
  ]
}