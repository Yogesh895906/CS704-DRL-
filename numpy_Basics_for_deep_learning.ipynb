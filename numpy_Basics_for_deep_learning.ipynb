{
  "nbformat": 4,
  "nbformat_minor": 0,
  "metadata": {
    "colab": {
      "provenance": []
    },
    "kernelspec": {
      "name": "python3",
      "display_name": "Python 3"
    },
    "language_info": {
      "name": "python"
    }
  },
  "cells": [
    {
      "cell_type": "code",
      "execution_count": null,
      "metadata": {
        "colab": {
          "base_uri": "https://localhost:8080/"
        },
        "id": "yIWD5r4J404t",
        "outputId": "b6f819fe-badf-4415-ef74-7611b86bf1bc"
      },
      "outputs": [
        {
          "output_type": "stream",
          "name": "stdout",
          "text": [
            "1D Array: [1 2 3 4 5]\n",
            "2D Array:\n",
            " [[1 2 3]\n",
            " [4 5 6]]\n",
            "Zeros Array:\n",
            " [[0. 0. 0.]\n",
            " [0. 0. 0.]\n",
            " [0. 0. 0.]]\n",
            "Ones Array:\n",
            " [[1. 1.]\n",
            " [1. 1.]]\n"
          ]
        }
      ],
      "source": [
        "#1. Basic Array Creation\n",
        "import numpy as np\n",
        "#Create a 1D array\n",
        "array_1d = np.array([1,2,3,4,5])\n",
        "print(\"1D Array:\",array_1d)\n",
        "#Create a 2D array\n",
        "array_2d =np.array([[1,2,3],[4,5,6]])\n",
        "print(\"2D Array:\\n\",array_2d)\n",
        "#Create an array with zeros\n",
        "zeros_array = np.zeros((3,3))\n",
        "print(\"Zeros Array:\\n\",zeros_array)\n",
        "#Create an array with ones\n",
        "ones_array = np.ones((2,2))\n",
        "print(\"Ones Array:\\n\",ones_array)"
      ]
    },
    {
      "cell_type": "markdown",
      "source": [],
      "metadata": {
        "id": "zNTnsq307TJJ"
      }
    },
    {
      "cell_type": "code",
      "source": [
        "#2.Array Operation\n",
        "import numpy as np\n",
        "#Create two arrays\n",
        "a=np.array([1,2,3])\n",
        "b=np.array([4,5,6])\n",
        "#Addition\n",
        "sum_array=np.add(a,b)\n",
        "print(\"Sum:\",sum_array)\n",
        "#Subtraction\n",
        "diff_array=np.subtract(a,b)\n",
        "print(\"Difference:\",diff_array)\n",
        "#Multiplication\n",
        "Product_array=np.multiply(a,b)\n",
        "print(\"Product:\",Product_array)\n",
        "#Division\n",
        "quotient_array=np.divide(a,b)\n",
        "print(\"Quotient:\",quotient_array)"
      ],
      "metadata": {
        "colab": {
          "base_uri": "https://localhost:8080/"
        },
        "id": "h8UYlurF7WE8",
        "outputId": "6a7cb40e-8168-4529-c468-e9a78c44d8b1"
      },
      "execution_count": null,
      "outputs": [
        {
          "output_type": "stream",
          "name": "stdout",
          "text": [
            "Sum: [5 7 9]\n",
            "Difference: [-3 -3 -3]\n",
            "Product: [ 4 10 18]\n",
            "Quotient: [0.25 0.4  0.5 ]\n"
          ]
        }
      ]
    },
    {
      "cell_type": "code",
      "source": [
        "#3.Matrix Multiplication\n",
        "import numpy as np\n",
        "#Create two matrices\n",
        "matrix_a=np.array([[1,2],[3,4]])\n",
        "matrix_b=np.array([[5,6],[7,8]])\n",
        "#Matrix multiplication\n",
        "matrix_product=np.dot(matrix_a,matrix_b)\n",
        "print(\"Matrix Product:\\n\",matrix_product)\n"
      ],
      "metadata": {
        "colab": {
          "base_uri": "https://localhost:8080/"
        },
        "id": "jQbNg29bBH6U",
        "outputId": "e35dc92d-5c94-406a-fe24-5aebf18ed10b"
      },
      "execution_count": null,
      "outputs": [
        {
          "output_type": "stream",
          "name": "stdout",
          "text": [
            "Matrix Product:\n",
            " [[19 22]\n",
            " [43 50]]\n"
          ]
        }
      ]
    },
    {
      "cell_type": "code",
      "source": [
        "#4.Broadcasting\n",
        "import numpy as np\n",
        "#Create an array and a scalar\n",
        "array=np.array([1,2,3])\n",
        "scalar=2\n",
        "#Broadcasting\n",
        "broadcasted_array=array*scalar\n",
        "print(\"Broadcasted Array:\",broadcasted_array)\n"
      ],
      "metadata": {
        "id": "DpX3CQvmCsJ7",
        "colab": {
          "base_uri": "https://localhost:8080/"
        },
        "outputId": "3fc31a87-7385-4dd2-e139-c734b52730f7"
      },
      "execution_count": null,
      "outputs": [
        {
          "output_type": "stream",
          "name": "stdout",
          "text": [
            "Broadcasted Array: [2 4 6]\n"
          ]
        }
      ]
    },
    {
      "cell_type": "code",
      "source": [
        "#5.Statistical Operations\n",
        "import numpy as np\n",
        "#Create an array\n",
        "data=np.array([1,2,3,4,5])\n",
        "#Mean\n",
        "mean_value=np.mean(data)\n",
        "print(\"Mean:\",mean_value)\n",
        "#Standard deviation\n",
        "std_value=np.std(data)\n",
        "print(\"Standard Deviation:\",std_value)\n",
        "#Sum\n",
        "sum_value=np.sum(data)\n",
        "print(\"Sum:\",sum_value)"
      ],
      "metadata": {
        "id": "XGqfWJCqFOEN",
        "colab": {
          "base_uri": "https://localhost:8080/"
        },
        "outputId": "5f7e0bd6-a08b-487b-b7fe-338a003d261f"
      },
      "execution_count": null,
      "outputs": [
        {
          "output_type": "stream",
          "name": "stdout",
          "text": [
            "Mean: 3.0\n",
            "Standard Deviation: 1.4142135623730951\n",
            "Sum: 15\n"
          ]
        }
      ]
    },
    {
      "cell_type": "code",
      "source": [
        "#6.Reshaping Arrays\n",
        "import numpy as np\n",
        "#Create a 1D array\n",
        "array=np.array([1,2,3,4,5,6])\n",
        "#Reshape to 2*3\n",
        "reshaped_array=array.reshape((2,3))\n",
        "print(\"Reshaped Array:\\n\", reshaped_array)\n",
        "#Reshape to 3*2\n",
        "reshaped_array=array.reshape((3,2))\n",
        "print(\"Reshaped Array:\\n\",reshaped_array)"
      ],
      "metadata": {
        "id": "OwTdhnalIcbA",
        "colab": {
          "base_uri": "https://localhost:8080/"
        },
        "outputId": "310e344b-1248-4eef-d94d-205739ae2d29"
      },
      "execution_count": null,
      "outputs": [
        {
          "output_type": "stream",
          "name": "stdout",
          "text": [
            "Reshaped Array:\n",
            " [[1 2 3]\n",
            " [4 5 6]]\n",
            "Reshaped Array:\n",
            " [[1 2]\n",
            " [3 4]\n",
            " [5 6]]\n"
          ]
        }
      ]
    },
    {
      "cell_type": "code",
      "source": [
        "#7.Element-wise Operation\n",
        "import numpy as np\n",
        "#create two arays\n",
        "array_a=np.array([1,2,3])\n",
        "array_b=np.array([4,5,6])\n",
        "#Element-wise addition\n",
        "add_result=array_a+array_b\n",
        "print(\"Element-wise Addition:\",add_result)\n",
        "#Element-wise multiplication\n",
        "multiply_result=array_a*array_b\n",
        "print(\"Element-wise Multiplication:\",multiply_result)"
      ],
      "metadata": {
        "id": "NaNzNA-iJ0D1",
        "colab": {
          "base_uri": "https://localhost:8080/"
        },
        "outputId": "ede1262e-d49a-4f2d-f5fe-e90b3cf265b8"
      },
      "execution_count": null,
      "outputs": [
        {
          "output_type": "stream",
          "name": "stdout",
          "text": [
            "Element-wise Addition: [5 7 9]\n",
            "Element-wise Multiplication: [ 4 10 18]\n"
          ]
        }
      ]
    },
    {
      "cell_type": "code",
      "source": [
        "#8.Slicing and Indexing\n",
        "import numpy as np\n",
        "#Create a 2D array\n",
        "array_2d=np.array([[1,2,3],[4,5,6],[7,8,9]])\n",
        "#Accessing a element\n",
        "element=array_2d[1,1]\n",
        "print(\"Element at[1,1]:\",element)\n",
        "#Accessing a column\n",
        "column=array_2d[:,1]\n",
        "print(\"Column 1:\",column)\n"
      ],
      "metadata": {
        "id": "N8ePga24YhWj",
        "colab": {
          "base_uri": "https://localhost:8080/"
        },
        "outputId": "b9248a16-280f-4f82-fac5-70d4f97d8043"
      },
      "execution_count": null,
      "outputs": [
        {
          "output_type": "stream",
          "name": "stdout",
          "text": [
            "Element at[1,1]: 5\n",
            "Column 1: [2 5 8]\n"
          ]
        }
      ]
    },
    {
      "cell_type": "code",
      "source": [
        "#9.Creating Random Arrays\n",
        "import numpy as np\n",
        "#Create a random array\n",
        "random_array=np.random.rand(3,3)\n",
        "print(\"Random Array:\\n\",random_array)\n",
        "#Create a random integer array\n",
        "random_int_array=np.random.randint(0,10,(3,3))\n",
        "print(\"Random Integer Array:\\n\",random_int_array)"
      ],
      "metadata": {
        "id": "Rqx-Tyb1ak8A",
        "colab": {
          "base_uri": "https://localhost:8080/"
        },
        "outputId": "e1361398-87ec-4190-a064-f79a39628132"
      },
      "execution_count": null,
      "outputs": [
        {
          "output_type": "stream",
          "name": "stdout",
          "text": [
            "Random Array:\n",
            " [[0.78606338 0.37376052 0.78489456]\n",
            " [0.22236633 0.09950456 0.18654124]\n",
            " [0.54300085 0.18708629 0.5959886 ]]\n",
            "Random Integer Array:\n",
            " [[8 5 4]\n",
            " [4 1 6]\n",
            " [2 1 0]]\n"
          ]
        }
      ]
    },
    {
      "cell_type": "code",
      "source": [
        "#10.Stacking and Concatenating Arrays\n",
        "import numpy as np\n",
        "#Create two arrays\n",
        "array"
      ],
      "metadata": {
        "id": "2xjUVqqJCdNZ",
        "colab": {
          "base_uri": "https://localhost:8080/"
        },
        "outputId": "562bb834-b553-4174-ad07-c31bfeb4d5ac"
      },
      "execution_count": null,
      "outputs": [
        {
          "output_type": "execute_result",
          "data": {
            "text/plain": [
              "array([1, 2, 3, 4, 5, 6])"
            ]
          },
          "metadata": {},
          "execution_count": 10
        }
      ]
    }
  ]
}